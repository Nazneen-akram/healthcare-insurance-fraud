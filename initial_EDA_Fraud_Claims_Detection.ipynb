{
  "nbformat": 4,
  "nbformat_minor": 0,
  "metadata": {
    "colab": {
      "provenance": [],
      "authorship_tag": "ABX9TyM9ANDYo889BeOoKt6m9kDg",
      "include_colab_link": true
    },
    "kernelspec": {
      "name": "python3",
      "display_name": "Python 3"
    },
    "language_info": {
      "name": "python"
    }
  },
  "cells": [
    {
      "cell_type": "markdown",
      "metadata": {
        "id": "view-in-github",
        "colab_type": "text"
      },
      "source": [
        "<a href=\"https://colab.research.google.com/github/Nazneen-akram/healthcare-insurance-fraud/blob/main/initial_EDA_Fraud_Claims_Detection.ipynb\" target=\"_parent\"><img src=\"https://colab.research.google.com/assets/colab-badge.svg\" alt=\"Open In Colab\"/></a>"
      ]
    },
    {
      "cell_type": "code",
      "execution_count": 1,
      "metadata": {
        "id": "pYhsfFGQc1fq"
      },
      "outputs": [],
      "source": [
        "import pandas as pd\n",
        "import seaborn as sns\n",
        "import matplotlib.pyplot as plt"
      ]
    },
    {
      "cell_type": "markdown",
      "source": [
        "#Functions to join Dataset\n",
        "##**'Beneficiary'**, **'Inpatient'**, **'Outpatient'** and **'Fraud'** into **'merged.csv'**\n",
        "\n",
        "1.   **join_inpatient_outpatient():** : Function to merge inpatient, outpatient dataframe\n",
        "2.   **join_inpatient_outpatient_beneficiary()**: Function to merge merged df, beneficiary dataframe\n",
        "3. **join_inpatient_outpatient_beneficiary_fraud()**: Function to merge merged df, fraud dataframe\n",
        "4. **join_csv()**: Function to join csv files. Joining by key BeneID, Provider.\n",
        "5. **generate_merged_data()**: mainfunction to join csv files. calls read_data and join_csv functions\n",
        "\n"
      ],
      "metadata": {
        "id": "f9L6l3CR9XEc"
      }
    },
    {
      "cell_type": "code",
      "source": [
        "def read_data():\n",
        "    \"\"\"\n",
        "    function to read csv files\n",
        "    parameters: None\n",
        "    return: data frames fraud, beneficiary, inpatient, outpatient.\n",
        "    raise FileExistsError: raises an exception when file is not found\n",
        "    \"\"\"\n",
        "    try:\n",
        "        fraud=pd.read_csv(\"/content/Train-1542865627584.csv\")\n",
        "        beneficiary=pd.read_csv(\"/content/Train_Beneficiarydata-1542865627584.csv\")\n",
        "        inpatient=pd.read_csv(\"/content/Train_Inpatientdata-1542865627584.csv\")\n",
        "        outpatient=pd.read_csv(\"/content/Train_Outpatientdata-1542865627584.csv\")\n",
        "        return fraud, beneficiary, inpatient, outpatient\n",
        "    except FileExistsError as error:\n",
        "        raise error"
      ],
      "metadata": {
        "id": "eH_7by3H5ObK"
      },
      "execution_count": 2,
      "outputs": []
    },
    {
      "cell_type": "code",
      "source": [
        "def join_inpatient_outpatient(inpatient, outpatient):\n",
        "    \"\"\"\n",
        "    function to merge inpatient, outpatient dataframe\n",
        "    parameters: inpatient, outpatient\n",
        "    return: merged dataframe\n",
        "    \"\"\"\n",
        "    inpatient['is_Inpatient'] = 1\n",
        "    outpatient['is_Inpatient'] = 0\n",
        "    inpatient_outpatient = pd.concat([inpatient,outpatient])\n",
        "    return inpatient_outpatient\n",
        "\n",
        "\n",
        "def join_inpatient_outpatient_beneficiary(inpatient_outpatient, beneficiary):\n",
        "    \"\"\"\n",
        "    function to merge merged df, beneficiary dataframe\n",
        "    parameters: inpatient, outpatient merged and beneficiary\n",
        "    return: merged dataframe\n",
        "    \"\"\"\n",
        "    inpatient_outpatient_beneficiary=pd.merge(inpatient_outpatient,beneficiary,\n",
        "                                left_on='BeneID',right_on='BeneID',how='inner')\n",
        "    return inpatient_outpatient_beneficiary\n",
        "\n",
        "\n",
        "def join_inpatient_outpatient_beneficiary_fraud(inpatient_outpatient_beneficiary, fraud):\n",
        "    \"\"\"\n",
        "    function to merge merged df, fraud dataframe\n",
        "    parameters: inpatient, outpatient merged, beneficiary and fraud\n",
        "    return: merged dataframe\n",
        "    \"\"\"\n",
        "    inpatient_outpatient_beneficiary_fraud=pd.merge(fraud,inpatient_outpatient_beneficiary,\n",
        "                                                    on='Provider')\n",
        "    return inpatient_outpatient_beneficiary_fraud\n",
        "\n",
        "\n",
        "def join_csv(fraud, beneficiary, inpatient, outpatient):\n",
        "    \"\"\"\n",
        "    function to join csv files. Joining by key BeneID, Provider.\n",
        "    parameters: fraud, beneficiary, inpatient, outpatient dataframes\n",
        "    return: merged csv\n",
        "    \"\"\"\n",
        "    # Join the files\n",
        "    merged = join_inpatient_outpatient(inpatient, outpatient)\n",
        "    merged = join_inpatient_outpatient_beneficiary(merged, beneficiary)\n",
        "    merged = join_inpatient_outpatient_beneficiary_fraud(merged, fraud)\n",
        "\n",
        "    # Save the merged file as a CSV\n",
        "    merged.to_csv('/content/merged.csv', index=False)\n",
        "\n",
        "\n",
        "def generate_merged_data():\n",
        "    \"\"\"\n",
        "    mainfunction to join csv files. calls read_data and join_csv functions\n",
        "    parameters: None\n",
        "    return: None\n",
        "    \"\"\"\n",
        "    fraud, beneficiary, inpatient, outpatient = read_data()\n",
        "    join_csv(fraud, beneficiary, inpatient, outpatient)\n",
        "\n"
      ],
      "metadata": {
        "id": "qgkm6cIZ8PxA"
      },
      "execution_count": 3,
      "outputs": []
    },
    {
      "cell_type": "code",
      "source": [
        "generate_merged_data()"
      ],
      "metadata": {
        "id": "ZgYi3wXS8Tnb"
      },
      "execution_count": 6,
      "outputs": []
    },
    {
      "cell_type": "code",
      "source": [],
      "metadata": {
        "id": "VXgGGkCD8WeD"
      },
      "execution_count": null,
      "outputs": []
    },
    {
      "cell_type": "markdown",
      "source": [
        "##**Pre-processing**\n",
        "###Module to perform data preprocesssing. This will be first level preprocessing. For visualization\n",
        "###and machine learning modeling seperate preprocessing will be required according to the requirements."
      ],
      "metadata": {
        "id": "028uKFwz_FLl"
      }
    },
    {
      "cell_type": "code",
      "source": [
        "from datetime import datetime\n",
        "import pandas as pd\n",
        "from sklearn.model_selection import train_test_split"
      ],
      "metadata": {
        "id": "9sOI7yZ__LzS"
      },
      "execution_count": 7,
      "outputs": []
    },
    {
      "cell_type": "code",
      "source": [
        "def read_data():\n",
        "    \"\"\"\n",
        "    function to read csv file\n",
        "    parameters: None\n",
        "    return: data frames fraud, beneficiary, inpatient, outpatient.\n",
        "    raise FileExistsError: raises an exception when file is not found\n",
        "    \"\"\"\n",
        "    try:\n",
        "        merged = pd.read_csv(\"/content/merged.csv\")\n",
        "    except FileExistsError as error:\n",
        "        raise error\n",
        "    return merged"
      ],
      "metadata": {
        "id": "OKRb2qm5_OUQ"
      },
      "execution_count": 8,
      "outputs": []
    },
    {
      "cell_type": "code",
      "source": [],
      "metadata": {
        "id": "jXdrDd6i_Sqt"
      },
      "execution_count": null,
      "outputs": []
    }
  ]
}